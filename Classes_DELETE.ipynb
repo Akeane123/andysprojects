{
 "cells": [
  {
   "cell_type": "markdown",
   "metadata": {},
   "source": [
    "#### Quick guide to classes"
   ]
  },
  {
   "cell_type": "code",
   "execution_count": 4,
   "metadata": {},
   "outputs": [],
   "source": [
    "class Calculator:\n",
    "    \n",
    "    def addition(x,y):\n",
    "        added = x+y\n",
    "        print(added)\n",
    "        \n",
    "    def subtraction(x,y):\n",
    "        subbed = x-y\n",
    "        print(subbed)\n",
    "    \n",
    "    def mult(x,y):\n",
    "        multiply = x*y\n",
    "        print(multiply)"
   ]
  },
  {
   "cell_type": "code",
   "execution_count": 5,
   "metadata": {},
   "outputs": [
    {
     "name": "stdout",
     "output_type": "stream",
     "text": [
      "2\n"
     ]
    }
   ],
   "source": [
    "calculator.mult(1,2)"
   ]
  },
  {
   "cell_type": "markdown",
   "metadata": {},
   "source": [
    "Class Tutorial taken from [here](https://www.youtube.com/watch?v=ZDa-Z5JzLYM)\n",
    "\n",
    "1. A class is a blueprint for an object\n",
    "1. "
   ]
  },
  {
   "cell_type": "code",
   "execution_count": 8,
   "metadata": {},
   "outputs": [],
   "source": [
    "class Employee:\n",
    "    pass #can skip if we put pass in here\n",
    "    "
   ]
  },
  {
   "cell_type": "code",
   "execution_count": 9,
   "metadata": {},
   "outputs": [],
   "source": [
    "emp_1 = Employee()\n",
    "emp_2 = Employee()"
   ]
  },
  {
   "cell_type": "code",
   "execution_count": 11,
   "metadata": {},
   "outputs": [
    {
     "name": "stdout",
     "output_type": "stream",
     "text": [
      "<__main__.Employee object at 0x00C22A70>\n",
      "<__main__.Employee object at 0x00C22F50>\n"
     ]
    }
   ],
   "source": [
    "print(emp_1)\n",
    "print(emp_2)"
   ]
  },
  {
   "cell_type": "code",
   "execution_count": 14,
   "metadata": {},
   "outputs": [],
   "source": [
    "emp_1.first = 'Corey'\n",
    "emp_1.last = 'Shaeffer'\n",
    "emp_1.email = 'Shaeffer@gmail.com'\n",
    "emp_1.pay = 50000"
   ]
  },
  {
   "cell_type": "code",
   "execution_count": 15,
   "metadata": {},
   "outputs": [],
   "source": [
    "emp_2.first = 'Dave'\n",
    "emp_2.last = 'Evams'\n",
    "emp_2.email = 'evdave@gmail.com'\n",
    "emp_2.pay = 45000"
   ]
  },
  {
   "cell_type": "markdown",
   "metadata": {},
   "source": [
    "#### the above is slow, and prone to errors and missing data"
   ]
  },
  {
   "cell_type": "code",
   "execution_count": 36,
   "metadata": {},
   "outputs": [],
   "source": [
    "class Employee:\n",
    "    def __init__(self, first, last, pay): # convention is that we call these self\n",
    "        \n",
    "        # self is passed in and then \n",
    "        self.first = first\n",
    "        self.last = last\n",
    "        self.pay = pay\n",
    "        self.email = first + '.' + last + '@company.com'\n",
    "    \n",
    "    def firstletter(self):\n",
    "        f_letter=self.first[0]\n",
    "        return f_letter\n",
    "    "
   ]
  },
  {
   "cell_type": "code",
   "execution_count": 37,
   "metadata": {},
   "outputs": [],
   "source": [
    "empt = Employee('Dave', 'Evans', 45000)"
   ]
  },
  {
   "cell_type": "code",
   "execution_count": 38,
   "metadata": {},
   "outputs": [
    {
     "data": {
      "text/plain": [
       "<__main__.Employee at 0x7f3830>"
      ]
     },
     "execution_count": 38,
     "metadata": {},
     "output_type": "execute_result"
    }
   ],
   "source": [
    "empt"
   ]
  },
  {
   "cell_type": "code",
   "execution_count": 39,
   "metadata": {},
   "outputs": [
    {
     "data": {
      "text/plain": [
       "'D'"
      ]
     },
     "execution_count": 39,
     "metadata": {},
     "output_type": "execute_result"
    }
   ],
   "source": [
    "empt.firstletter()"
   ]
  },
  {
   "cell_type": "markdown",
   "metadata": {},
   "source": [
    "empt.firstletter()"
   ]
  },
  {
   "cell_type": "code",
   "execution_count": null,
   "metadata": {},
   "outputs": [],
   "source": []
  }
 ],
 "metadata": {
  "kernelspec": {
   "display_name": "Python 3",
   "language": "python",
   "name": "python3"
  },
  "language_info": {
   "codemirror_mode": {
    "name": "ipython",
    "version": 3
   },
   "file_extension": ".py",
   "mimetype": "text/x-python",
   "name": "python",
   "nbconvert_exporter": "python",
   "pygments_lexer": "ipython3",
   "version": "3.7.2"
  }
 },
 "nbformat": 4,
 "nbformat_minor": 2
}
