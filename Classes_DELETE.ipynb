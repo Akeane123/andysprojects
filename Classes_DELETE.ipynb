{
 "cells": [
  {
   "cell_type": "markdown",
   "metadata": {},
   "source": [
    "#### Quick guide to classes"
   ]
  },
  {
   "cell_type": "markdown",
   "metadata": {},
   "source": [
    "Class Tutorial taken from [here](https://www.youtube.com/watch?v=ZDa-Z5JzLYM)"
   ]
  },
  {
   "cell_type": "code",
   "execution_count": 8,
   "metadata": {},
   "outputs": [],
   "source": [
    "class Employee:\n",
    "    pass #can skip if we put pass in here\n",
    "    "
   ]
  },
  {
   "cell_type": "code",
   "execution_count": 14,
   "metadata": {},
   "outputs": [],
   "source": [
    "emp_1.first = 'Corey'\n",
    "emp_1.last = 'Shaeffer'\n",
    "emp_1.email = 'Shaeffer@gmail.com'\n",
    "emp_1.pay = 50000"
   ]
  },
  {
   "cell_type": "code",
   "execution_count": 15,
   "metadata": {},
   "outputs": [],
   "source": [
    "emp_2.first = 'Dave'\n",
    "emp_2.last = 'Evams'\n",
    "emp_2.email = 'evdave@gmail.com'\n",
    "emp_2.pay = 45000"
   ]
  },
  {
   "cell_type": "markdown",
   "metadata": {},
   "source": [
    "#### the above is slow, and prone to errors and missing data"
   ]
  },
  {
   "cell_type": "code",
   "execution_count": 87,
   "metadata": {},
   "outputs": [],
   "source": [
    "class Employee:\n",
    "    \n",
    "    \n",
    "    # These are class variables\n",
    "    num_emps = 0 # If we want to keep track of the number of employees. \n",
    "    raise_amount = 1.04\n",
    "    \n",
    "    def __init__(self, first, last, pay): # convention is that we call these self\n",
    "        # self is passed in and then \n",
    "        self.first = first\n",
    "        self.last = last\n",
    "        self.pay = pay\n",
    "        self.email = first + '.' + last + '@company.com'\n",
    "        \n",
    "        Employee.num_emps += 1\n",
    "    \n",
    "    def firstletter(self):\n",
    "        f_letter=self.first[0]\n",
    "        return f_letter\n",
    "    \n",
    "    # we are going to create a method to apply a fuc\n",
    "    def apply_raise(self):\n",
    "        self.pay = int(self.pay * Employee.raise_amount)\n",
    "        \n",
    "    \n",
    "    "
   ]
  },
  {
   "cell_type": "code",
   "execution_count": 88,
   "metadata": {},
   "outputs": [],
   "source": [
    "emp_1 = Employee('Dave', 'Evans', 45000)\n",
    "emp_2 = Employee('Brian', 'Daly', 65000)\n"
   ]
  },
  {
   "cell_type": "code",
   "execution_count": 89,
   "metadata": {},
   "outputs": [],
   "source": [
    "Employee.raise_amount=1.07 # So this would change the raise amount for all the instances"
   ]
  },
  {
   "cell_type": "code",
   "execution_count": 90,
   "metadata": {},
   "outputs": [],
   "source": [
    "emp_1.raise_amount = 1.0123"
   ]
  },
  {
   "cell_type": "code",
   "execution_count": 91,
   "metadata": {
    "scrolled": true
   },
   "outputs": [
    {
     "name": "stdout",
     "output_type": "stream",
     "text": [
      "{'first': 'Dave', 'last': 'Evans', 'pay': 45000, 'email': 'Dave.Evans@company.com', 'raise_amount': 1.0123}\n"
     ]
    }
   ],
   "source": [
    "print(emp_1.__dict__)"
   ]
  },
  {
   "cell_type": "code",
   "execution_count": 92,
   "metadata": {},
   "outputs": [
    {
     "data": {
      "text/plain": [
       "1.0123"
      ]
     },
     "execution_count": 92,
     "metadata": {},
     "output_type": "execute_result"
    }
   ],
   "source": [
    "emp_1.raise_amount"
   ]
  },
  {
   "cell_type": "code",
   "execution_count": 93,
   "metadata": {},
   "outputs": [
    {
     "data": {
      "text/plain": [
       "1.07"
      ]
     },
     "execution_count": 93,
     "metadata": {},
     "output_type": "execute_result"
    }
   ],
   "source": [
    "emp_2.raise_amount"
   ]
  },
  {
   "cell_type": "code",
   "execution_count": 94,
   "metadata": {},
   "outputs": [
    {
     "name": "stdout",
     "output_type": "stream",
     "text": [
      "1.07\n",
      "1.0123\n"
     ]
    }
   ],
   "source": [
    "print(Employee.raise_amount)\n",
    "print(emp_1.raise_amount)"
   ]
  },
  {
   "cell_type": "code",
   "execution_count": 97,
   "metadata": {},
   "outputs": [
    {
     "data": {
      "text/plain": [
       "2"
      ]
     },
     "execution_count": 97,
     "metadata": {},
     "output_type": "execute_result"
    }
   ],
   "source": [
    "Employee.num_emps"
   ]
  },
  {
   "cell_type": "markdown",
   "metadata": {},
   "source": [
    "#### Class methods and static methods"
   ]
  },
  {
   "cell_type": "code",
   "execution_count": 104,
   "metadata": {},
   "outputs": [],
   "source": [
    "class Employee:\n",
    "    \n",
    "    \n",
    "    # These are class variables\n",
    "    num_emps = 0 # If we want to keep track of the number of employees. \n",
    "    raise_amount = 1.04\n",
    "    \n",
    "    def __init__(self, first, last, pay): # convention is that we call these self\n",
    "        # self is passed in and then \n",
    "        self.first = first\n",
    "        self.last = last\n",
    "        self.pay = pay\n",
    "        self.email = first + '.' + last + '@company.com'\n",
    "        \n",
    "        Employee.num_emps += 1\n",
    "    \n",
    "    def firstletter(self):\n",
    "        f_letter=self.first[0]\n",
    "        return f_letter\n",
    "    \n",
    "    # we are going to create a method to apply a fuc\n",
    "    def apply_raise(self):\n",
    "        self.pay = int(self.pay * Employee.raise_amount)\n",
    "        \n",
    "    @classmethod #classmethod decorator\n",
    "    \n",
    "    # So we are working with the class rather than the instance\n",
    "    def set_rase_amt(cls, amount): # so the class is the first argument cls is the conventions (we can't use class)\n",
    "        cls.raise_amount = amount\n",
    "        pass"
   ]
  },
  {
   "cell_type": "code",
   "execution_count": 105,
   "metadata": {},
   "outputs": [],
   "source": [
    "Employee.set_rase_amt(1.06) # so we can adjust our raise amount for the whole class"
   ]
  },
  {
   "cell_type": "code",
   "execution_count": 106,
   "metadata": {},
   "outputs": [
    {
     "name": "stdout",
     "output_type": "stream",
     "text": [
      "1.06\n",
      "1.07\n",
      "1.0123\n"
     ]
    }
   ],
   "source": [
    "print(Employee.raise_amount)\n",
    "print(emp_2.raise_amount)\n",
    "print(emp_1.raise_amount)"
   ]
  },
  {
   "cell_type": "markdown",
   "metadata": {},
   "source": [
    "class methods as alternative constructors\n",
    "can use these methods as multiple ways to create objects. \n",
    "Lets say that we are getting employee information in the form of a string separated by hyphens. "
   ]
  },
  {
   "cell_type": "code",
   "execution_count": 110,
   "metadata": {},
   "outputs": [],
   "source": [
    "emp_str_1 = 'John-Doe-70000'\n",
    "emp_str_2 = 'mary-Ryan-7000'\n",
    "emp_str_3 = 'dan-rae-77000'"
   ]
  },
  {
   "cell_type": "code",
   "execution_count": 115,
   "metadata": {},
   "outputs": [],
   "source": [
    "first, last, pay = emp_str_1.split('-')\n",
    "new_emp_1 = Employee(first, last, pay)"
   ]
  },
  {
   "cell_type": "code",
   "execution_count": 117,
   "metadata": {},
   "outputs": [
    {
     "data": {
      "text/plain": [
       "{'first': 'John',\n",
       " 'last': 'Doe',\n",
       " 'pay': '70000',\n",
       " 'email': 'John.Doe@company.com'}"
      ]
     },
     "execution_count": 117,
     "metadata": {},
     "output_type": "execute_result"
    }
   ],
   "source": [
    "new_emp_1.__dict__"
   ]
  },
  {
   "cell_type": "markdown",
   "metadata": {},
   "source": [
    "But lets say the above is a common way of submitting information..."
   ]
  },
  {
   "cell_type": "code",
   "execution_count": 129,
   "metadata": {},
   "outputs": [],
   "source": [
    "class Employee:\n",
    "    \n",
    "    \n",
    "    # These are class variables\n",
    "    num_emps = 0 # If we want to keep track of the number of employees. \n",
    "    raise_amount = 1.04\n",
    "    \n",
    "    def __init__(self, first, last, pay): # convention is that we call these self\n",
    "        # self is passed in and then \n",
    "        self.first = first\n",
    "        self.last = last\n",
    "        self.pay = pay\n",
    "        self.email = first + '.' + last + '@company.com'\n",
    "        \n",
    "        Employee.num_emps += 1\n",
    "    \n",
    "    def firstletter(self):\n",
    "        f_letter=self.first[0]\n",
    "        return f_letter\n",
    "    \n",
    "    # we are going to create a method to apply a fuc\n",
    "    def apply_raise(self):\n",
    "        self.pay = int(self.pay * Employee.raise_amount)\n",
    "        \n",
    "    @classmethod #classmethod decorator\n",
    "    \n",
    "    # So we are working with the class rather than the instance\n",
    "    def set_rase_amt(cls, amount): # so the class is the first argument cls is the conventions (we can't use class)\n",
    "        cls.raise_amount = amount\n",
    "        pass\n",
    "    \n",
    "    @classmethod # classmethod as alternative constructor\n",
    "    \n",
    "    def from_string(cls, emp_str): # remember the class has to be the first\n",
    "        first, last, pay = emp_str.split('-')\n",
    "        return cls(first, last, pay) # We want to return the object"
   ]
  },
  {
   "cell_type": "code",
   "execution_count": 130,
   "metadata": {},
   "outputs": [],
   "source": [
    "new_emp_1 = Employee.from_string(emp_str_1)"
   ]
  },
  {
   "cell_type": "code",
   "execution_count": 131,
   "metadata": {},
   "outputs": [
    {
     "data": {
      "text/plain": [
       "'70000'"
      ]
     },
     "execution_count": 131,
     "metadata": {},
     "output_type": "execute_result"
    }
   ],
   "source": [
    "new_emp_1.pay"
   ]
  },
  {
   "cell_type": "markdown",
   "metadata": {},
   "source": [
    "Static methods"
   ]
  },
  {
   "cell_type": "code",
   "execution_count": 209,
   "metadata": {},
   "outputs": [],
   "source": [
    "class Employee:\n",
    "    \n",
    "    \n",
    "    # These are class variables\n",
    "    num_emps = 0 # If we want to keep track of the number of employees. \n",
    "    raise_amount = 1.04\n",
    "    \n",
    "    def __init__(self, first, last, pay): # convention is that we call these self\n",
    "        # self is passed in and then \n",
    "        self.first = first\n",
    "        self.last = last\n",
    "        self.pay = pay\n",
    "        self.email = first + '.' + last + '@company.com'\n",
    "        \n",
    "        Employee.num_emps += 1\n",
    "    \n",
    "    def firstletter(self):\n",
    "        f_letter=self.first[0]\n",
    "        return f_letter\n",
    "    \n",
    "    # we are going to create a method to apply a fuc\n",
    "    def apply_raise(self):\n",
    "        self.pay = int(self.pay * self.raise_amount)\n",
    "        \n",
    "    @classmethod #classmethod decorator\n",
    "    \n",
    "    # So we are working with the class rather than the instance\n",
    "    def set_rase_amt(cls, amount): # so the class is the first argument cls is the conventions (we can't use class)\n",
    "        cls.raise_amount = amount\n",
    "        pass\n",
    "    \n",
    "    @classmethod # classmethod as alternative constructor\n",
    "    \n",
    "    def from_string(cls, emp_str): # remember the class has to be the first\n",
    "        first, last, pay = emp_str.split('-')\n",
    "        return cls(first, last, pay) # We want to return the object\n",
    "    \n",
    "    @staticmethod # If we dont need to reference the class\n",
    "    \n",
    "    def is_workday(day):\n",
    "        if day.weekday() == 5 or day.weekday() == 6:\n",
    "            return False\n",
    "        return True      "
   ]
  },
  {
   "cell_type": "code",
   "execution_count": 210,
   "metadata": {},
   "outputs": [],
   "source": [
    "import datetime"
   ]
  },
  {
   "cell_type": "code",
   "execution_count": 211,
   "metadata": {},
   "outputs": [],
   "source": [
    "my_date = datetime.date(2016, 7, 8)"
   ]
  },
  {
   "cell_type": "code",
   "execution_count": 212,
   "metadata": {},
   "outputs": [
    {
     "data": {
      "text/plain": [
       "True"
      ]
     },
     "execution_count": 212,
     "metadata": {},
     "output_type": "execute_result"
    }
   ],
   "source": [
    "Employee.is_workday(my_date)"
   ]
  },
  {
   "cell_type": "markdown",
   "metadata": {},
   "source": [
    "#### Class Inheritence\n",
    "\n",
    "Allows is to inherit attributes and methods from a parent class\n",
    "Can overwrite and add new functionality"
   ]
  },
  {
   "cell_type": "markdown",
   "metadata": {},
   "source": [
    "Say we wanted to create different types of class for different types of employees\n",
    "We want to inherit code from our original class and reuse it"
   ]
  },
  {
   "cell_type": "code",
   "execution_count": 213,
   "metadata": {},
   "outputs": [],
   "source": [
    "class Developer(Employee): ## So 'Employee' is the class we want to inherit\n",
    "    raise_amount = 1.10 # raise amount in this class will change, but not in the employee class"
   ]
  },
  {
   "cell_type": "code",
   "execution_count": 214,
   "metadata": {},
   "outputs": [],
   "source": [
    "dev_1 = Developer('DAve', 'Jogn',50000)\n",
    "dev_3 = Employee('asfd', 'lol',5000)"
   ]
  },
  {
   "cell_type": "code",
   "execution_count": 215,
   "metadata": {},
   "outputs": [
    {
     "data": {
      "text/plain": [
       "<__main__.Developer at 0x4c26af0>"
      ]
     },
     "execution_count": 215,
     "metadata": {},
     "output_type": "execute_result"
    }
   ],
   "source": [
    "dev_1"
   ]
  },
  {
   "cell_type": "code",
   "execution_count": 216,
   "metadata": {},
   "outputs": [],
   "source": [
    "dev_1.apply_raise()"
   ]
  },
  {
   "cell_type": "code",
   "execution_count": 217,
   "metadata": {},
   "outputs": [
    {
     "data": {
      "text/plain": [
       "55000"
      ]
     },
     "execution_count": 217,
     "metadata": {},
     "output_type": "execute_result"
    }
   ],
   "source": [
    "dev_1.pay"
   ]
  },
  {
   "cell_type": "code",
   "execution_count": 218,
   "metadata": {},
   "outputs": [],
   "source": [
    "dev_1 = Employee('DAve', 'Jogn',50000)"
   ]
  },
  {
   "cell_type": "code",
   "execution_count": 219,
   "metadata": {},
   "outputs": [],
   "source": [
    "dev_1.apply_raise()"
   ]
  },
  {
   "cell_type": "code",
   "execution_count": 220,
   "metadata": {},
   "outputs": [
    {
     "data": {
      "text/plain": [
       "52000"
      ]
     },
     "execution_count": 220,
     "metadata": {},
     "output_type": "execute_result"
    }
   ],
   "source": [
    "dev_1.pay"
   ]
  },
  {
   "cell_type": "markdown",
   "metadata": {},
   "source": [
    "#### Say we want to include extra information in the Developer class"
   ]
  },
  {
   "cell_type": "code",
   "execution_count": 226,
   "metadata": {},
   "outputs": [],
   "source": [
    "class Developer(Employee): ## So 'Employee' is the class we want to inherit\n",
    "    \n",
    "    def __init__(self, first, last, pay, prog_lang): # convention is that we call these self\n",
    "    # We wnat to let the Employee class handle the first, last, and pay fields. \n",
    "        super().__init__(first, last, pay) # So we're calling the parent init method\n",
    "        self.prog_lang = prog_lang\n",
    "    \n",
    "    raise_amount = 1.10 # raise amount in this class will change, but not in the employee class"
   ]
  },
  {
   "cell_type": "code",
   "execution_count": 228,
   "metadata": {},
   "outputs": [],
   "source": [
    "dev_1 = Developer('DAve', 'Jogn',50000, 'java')"
   ]
  },
  {
   "cell_type": "code",
   "execution_count": 229,
   "metadata": {},
   "outputs": [
    {
     "data": {
      "text/plain": [
       "{'first': 'DAve',\n",
       " 'last': 'Jogn',\n",
       " 'pay': 50000,\n",
       " 'email': 'DAve.Jogn@company.com',\n",
       " 'prog_lang': 'java'}"
      ]
     },
     "execution_count": 229,
     "metadata": {},
     "output_type": "execute_result"
    }
   ],
   "source": [
    "dev_1.__dict__"
   ]
  },
  {
   "cell_type": "code",
   "execution_count": 245,
   "metadata": {},
   "outputs": [],
   "source": [
    "# We'll create a class with employees equal to a list\n",
    "\n",
    "#Note: Never have a list or a dict as a default!!!!!\n",
    "\n",
    "class Manager(Employee): ## So 'Employee' is the class we want to inherit\n",
    "    \n",
    "    def __init__(self, first, last, pay, employees=None):\n",
    "        super().__init__(first, last, pay) # So we're calling the parent init method\n",
    "        if employees == None:\n",
    "            self.employees = []\n",
    "        else:\n",
    "            self.employees = employees\n",
    "    \n",
    "    def add_employee(self, emp):\n",
    "        if emp not in employees:\n",
    "            self.employees.append(emp)\n",
    "    \n",
    "    def rem_employee(self, emp):\n",
    "        if emp  in self.employees:\n",
    "            self.employees.remove(emp)\n",
    "            print(\"employee {} remved\".format(emp))\n",
    "    \n",
    "    def print_employees(self):\n",
    "        for emp in self.employees:\n",
    "            print(emp)"
   ]
  },
  {
   "cell_type": "code",
   "execution_count": 250,
   "metadata": {},
   "outputs": [],
   "source": [
    "man_1 = Manager('DAve', 'Jogn',50000, ['Eric', 'Paul'])"
   ]
  },
  {
   "cell_type": "code",
   "execution_count": 251,
   "metadata": {},
   "outputs": [
    {
     "data": {
      "text/plain": [
       "[<__main__.Developer at 0xda1450>, 'Paul']"
      ]
     },
     "execution_count": 251,
     "metadata": {},
     "output_type": "execute_result"
    }
   ],
   "source": [
    "man_1.employees"
   ]
  },
  {
   "cell_type": "code",
   "execution_count": 252,
   "metadata": {},
   "outputs": [
    {
     "name": "stdout",
     "output_type": "stream",
     "text": [
      "employee Paul remved\n"
     ]
    }
   ],
   "source": [
    "man_1.rem_employee('Paul')"
   ]
  },
  {
   "cell_type": "code",
   "execution_count": 253,
   "metadata": {},
   "outputs": [
    {
     "name": "stdout",
     "output_type": "stream",
     "text": [
      "<__main__.Developer object at 0x00DA1450>\n"
     ]
    }
   ],
   "source": [
    "man_1.print_employees()"
   ]
  },
  {
   "cell_type": "code",
   "execution_count": null,
   "metadata": {},
   "outputs": [],
   "source": []
  }
 ],
 "metadata": {
  "kernelspec": {
   "display_name": "Python 3",
   "language": "python",
   "name": "python3"
  },
  "language_info": {
   "codemirror_mode": {
    "name": "ipython",
    "version": 3
   },
   "file_extension": ".py",
   "mimetype": "text/x-python",
   "name": "python",
   "nbconvert_exporter": "python",
   "pygments_lexer": "ipython3",
   "version": "3.7.2"
  }
 },
 "nbformat": 4,
 "nbformat_minor": 2
}
